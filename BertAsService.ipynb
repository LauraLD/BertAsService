{
  "nbformat": 4,
  "nbformat_minor": 0,
  "metadata": {
    "colab": {
      "provenance": []
    },
    "kernelspec": {
      "name": "python3",
      "display_name": "Python 3"
    },
    "language_info": {
      "name": "python"
    },
    "accelerator": "GPU",
    "gpuClass": "standard"
  },
  "cells": [
    {
      "cell_type": "code",
      "source": [
        "from sklearn.metrics.pairwise import cosine_similarity, euclidean_distances\n",
        "\n",
        "import pandas as pd\n",
        "import numpy as np"
      ],
      "metadata": {
        "id": "AC_cKcwEDckE"
      },
      "execution_count": null,
      "outputs": []
    },
    {
      "cell_type": "code",
      "execution_count": null,
      "metadata": {
        "colab": {
          "base_uri": "https://localhost:8080/"
        },
        "id": "OqHzrzI30Ibz",
        "outputId": "e16e5d80-f4f1-48ba-d0af-da07bcf626b4"
      },
      "outputs": [
        {
          "output_type": "stream",
          "name": "stdout",
          "text": [
            "Looking in indexes: https://pypi.org/simple, https://us-python.pkg.dev/colab-wheels/public/simple/\n",
            "Collecting tensorflow==1.14\n",
            "  Downloading tensorflow-1.14.0-cp37-cp37m-manylinux1_x86_64.whl (109.3 MB)\n",
            "\u001b[K     |████████████████████████████████| 109.3 MB 44 kB/s \n",
            "\u001b[?25hRequirement already satisfied: keras-preprocessing>=1.0.5 in /usr/local/lib/python3.7/dist-packages (from tensorflow==1.14) (1.1.2)\n",
            "Requirement already satisfied: wrapt>=1.11.1 in /usr/local/lib/python3.7/dist-packages (from tensorflow==1.14) (1.14.1)\n",
            "Requirement already satisfied: numpy<2.0,>=1.14.5 in /usr/local/lib/python3.7/dist-packages (from tensorflow==1.14) (1.21.6)\n",
            "Requirement already satisfied: protobuf>=3.6.1 in /usr/local/lib/python3.7/dist-packages (from tensorflow==1.14) (3.17.3)\n",
            "Requirement already satisfied: termcolor>=1.1.0 in /usr/local/lib/python3.7/dist-packages (from tensorflow==1.14) (1.1.0)\n",
            "Collecting keras-applications>=1.0.6\n",
            "  Downloading Keras_Applications-1.0.8-py3-none-any.whl (50 kB)\n",
            "\u001b[K     |████████████████████████████████| 50 kB 4.0 MB/s \n",
            "\u001b[?25hRequirement already satisfied: google-pasta>=0.1.6 in /usr/local/lib/python3.7/dist-packages (from tensorflow==1.14) (0.2.0)\n",
            "Requirement already satisfied: six>=1.10.0 in /usr/local/lib/python3.7/dist-packages (from tensorflow==1.14) (1.15.0)\n",
            "Collecting tensorflow-estimator<1.15.0rc0,>=1.14.0rc0\n",
            "  Downloading tensorflow_estimator-1.14.0-py2.py3-none-any.whl (488 kB)\n",
            "\u001b[K     |████████████████████████████████| 488 kB 51.2 MB/s \n",
            "\u001b[?25hRequirement already satisfied: wheel>=0.26 in /usr/local/lib/python3.7/dist-packages (from tensorflow==1.14) (0.37.1)\n",
            "Collecting tensorboard<1.15.0,>=1.14.0\n",
            "  Downloading tensorboard-1.14.0-py3-none-any.whl (3.1 MB)\n",
            "\u001b[K     |████████████████████████████████| 3.1 MB 46.6 MB/s \n",
            "\u001b[?25hRequirement already satisfied: absl-py>=0.7.0 in /usr/local/lib/python3.7/dist-packages (from tensorflow==1.14) (1.2.0)\n",
            "Requirement already satisfied: grpcio>=1.8.6 in /usr/local/lib/python3.7/dist-packages (from tensorflow==1.14) (1.47.0)\n",
            "Requirement already satisfied: astor>=0.6.0 in /usr/local/lib/python3.7/dist-packages (from tensorflow==1.14) (0.8.1)\n",
            "Requirement already satisfied: gast>=0.2.0 in /usr/local/lib/python3.7/dist-packages (from tensorflow==1.14) (0.5.3)\n",
            "Requirement already satisfied: h5py in /usr/local/lib/python3.7/dist-packages (from keras-applications>=1.0.6->tensorflow==1.14) (3.1.0)\n",
            "Requirement already satisfied: markdown>=2.6.8 in /usr/local/lib/python3.7/dist-packages (from tensorboard<1.15.0,>=1.14.0->tensorflow==1.14) (3.4.1)\n",
            "Requirement already satisfied: setuptools>=41.0.0 in /usr/local/lib/python3.7/dist-packages (from tensorboard<1.15.0,>=1.14.0->tensorflow==1.14) (57.4.0)\n",
            "Requirement already satisfied: werkzeug>=0.11.15 in /usr/local/lib/python3.7/dist-packages (from tensorboard<1.15.0,>=1.14.0->tensorflow==1.14) (1.0.1)\n",
            "Requirement already satisfied: importlib-metadata>=4.4 in /usr/local/lib/python3.7/dist-packages (from markdown>=2.6.8->tensorboard<1.15.0,>=1.14.0->tensorflow==1.14) (4.12.0)\n",
            "Requirement already satisfied: typing-extensions>=3.6.4 in /usr/local/lib/python3.7/dist-packages (from importlib-metadata>=4.4->markdown>=2.6.8->tensorboard<1.15.0,>=1.14.0->tensorflow==1.14) (4.1.1)\n",
            "Requirement already satisfied: zipp>=0.5 in /usr/local/lib/python3.7/dist-packages (from importlib-metadata>=4.4->markdown>=2.6.8->tensorboard<1.15.0,>=1.14.0->tensorflow==1.14) (3.8.1)\n",
            "Requirement already satisfied: cached-property in /usr/local/lib/python3.7/dist-packages (from h5py->keras-applications>=1.0.6->tensorflow==1.14) (1.5.2)\n",
            "Installing collected packages: tensorflow-estimator, tensorboard, keras-applications, tensorflow\n",
            "  Attempting uninstall: tensorflow-estimator\n",
            "    Found existing installation: tensorflow-estimator 2.8.0\n",
            "    Uninstalling tensorflow-estimator-2.8.0:\n",
            "      Successfully uninstalled tensorflow-estimator-2.8.0\n",
            "  Attempting uninstall: tensorboard\n",
            "    Found existing installation: tensorboard 2.8.0\n",
            "    Uninstalling tensorboard-2.8.0:\n",
            "      Successfully uninstalled tensorboard-2.8.0\n",
            "  Attempting uninstall: tensorflow\n",
            "    Found existing installation: tensorflow 2.8.2+zzzcolab20220719082949\n",
            "    Uninstalling tensorflow-2.8.2+zzzcolab20220719082949:\n",
            "      Successfully uninstalled tensorflow-2.8.2+zzzcolab20220719082949\n",
            "\u001b[31mERROR: pip's dependency resolver does not currently take into account all the packages that are installed. This behaviour is the source of the following dependency conflicts.\n",
            "kapre 0.3.7 requires tensorflow>=2.0.0, but you have tensorflow 1.14.0 which is incompatible.\u001b[0m\n",
            "Successfully installed keras-applications-1.0.8 tensorboard-1.14.0 tensorflow-1.14.0 tensorflow-estimator-1.14.0\n"
          ]
        },
        {
          "output_type": "stream",
          "name": "stderr",
          "text": [
            "/usr/local/lib/python3.7/dist-packages/tensorflow/python/framework/dtypes.py:516: FutureWarning: Passing (type, 1) or '1type' as a synonym of type is deprecated; in a future version of numpy, it will be understood as (type, (1,)) / '(1,)type'.\n",
            "  _np_qint8 = np.dtype([(\"qint8\", np.int8, 1)])\n",
            "/usr/local/lib/python3.7/dist-packages/tensorflow/python/framework/dtypes.py:517: FutureWarning: Passing (type, 1) or '1type' as a synonym of type is deprecated; in a future version of numpy, it will be understood as (type, (1,)) / '(1,)type'.\n",
            "  _np_quint8 = np.dtype([(\"quint8\", np.uint8, 1)])\n",
            "/usr/local/lib/python3.7/dist-packages/tensorflow/python/framework/dtypes.py:518: FutureWarning: Passing (type, 1) or '1type' as a synonym of type is deprecated; in a future version of numpy, it will be understood as (type, (1,)) / '(1,)type'.\n",
            "  _np_qint16 = np.dtype([(\"qint16\", np.int16, 1)])\n",
            "/usr/local/lib/python3.7/dist-packages/tensorflow/python/framework/dtypes.py:519: FutureWarning: Passing (type, 1) or '1type' as a synonym of type is deprecated; in a future version of numpy, it will be understood as (type, (1,)) / '(1,)type'.\n",
            "  _np_quint16 = np.dtype([(\"quint16\", np.uint16, 1)])\n",
            "/usr/local/lib/python3.7/dist-packages/tensorflow/python/framework/dtypes.py:520: FutureWarning: Passing (type, 1) or '1type' as a synonym of type is deprecated; in a future version of numpy, it will be understood as (type, (1,)) / '(1,)type'.\n",
            "  _np_qint32 = np.dtype([(\"qint32\", np.int32, 1)])\n",
            "/usr/local/lib/python3.7/dist-packages/tensorflow/python/framework/dtypes.py:525: FutureWarning: Passing (type, 1) or '1type' as a synonym of type is deprecated; in a future version of numpy, it will be understood as (type, (1,)) / '(1,)type'.\n",
            "  np_resource = np.dtype([(\"resource\", np.ubyte, 1)])\n"
          ]
        },
        {
          "output_type": "stream",
          "name": "stdout",
          "text": [
            "1.14.0\n"
          ]
        },
        {
          "output_type": "stream",
          "name": "stderr",
          "text": [
            "/usr/local/lib/python3.7/dist-packages/tensorboard/compat/tensorflow_stub/dtypes.py:541: FutureWarning: Passing (type, 1) or '1type' as a synonym of type is deprecated; in a future version of numpy, it will be understood as (type, (1,)) / '(1,)type'.\n",
            "  _np_qint8 = np.dtype([(\"qint8\", np.int8, 1)])\n",
            "/usr/local/lib/python3.7/dist-packages/tensorboard/compat/tensorflow_stub/dtypes.py:542: FutureWarning: Passing (type, 1) or '1type' as a synonym of type is deprecated; in a future version of numpy, it will be understood as (type, (1,)) / '(1,)type'.\n",
            "  _np_quint8 = np.dtype([(\"quint8\", np.uint8, 1)])\n",
            "/usr/local/lib/python3.7/dist-packages/tensorboard/compat/tensorflow_stub/dtypes.py:543: FutureWarning: Passing (type, 1) or '1type' as a synonym of type is deprecated; in a future version of numpy, it will be understood as (type, (1,)) / '(1,)type'.\n",
            "  _np_qint16 = np.dtype([(\"qint16\", np.int16, 1)])\n",
            "/usr/local/lib/python3.7/dist-packages/tensorboard/compat/tensorflow_stub/dtypes.py:544: FutureWarning: Passing (type, 1) or '1type' as a synonym of type is deprecated; in a future version of numpy, it will be understood as (type, (1,)) / '(1,)type'.\n",
            "  _np_quint16 = np.dtype([(\"quint16\", np.uint16, 1)])\n",
            "/usr/local/lib/python3.7/dist-packages/tensorboard/compat/tensorflow_stub/dtypes.py:545: FutureWarning: Passing (type, 1) or '1type' as a synonym of type is deprecated; in a future version of numpy, it will be understood as (type, (1,)) / '(1,)type'.\n",
            "  _np_qint32 = np.dtype([(\"qint32\", np.int32, 1)])\n",
            "/usr/local/lib/python3.7/dist-packages/tensorboard/compat/tensorflow_stub/dtypes.py:550: FutureWarning: Passing (type, 1) or '1type' as a synonym of type is deprecated; in a future version of numpy, it will be understood as (type, (1,)) / '(1,)type'.\n",
            "  np_resource = np.dtype([(\"resource\", np.ubyte, 1)])\n"
          ]
        }
      ],
      "source": [
        "# %tensorflow_version 1.x\n",
        "!pip install tensorflow==1.14\n",
        "import tensorflow as tf\n",
        "print(tf.__version__)"
      ]
    },
    {
      "cell_type": "code",
      "source": [
        "!pip install -U bert-serving-server"
      ],
      "metadata": {
        "colab": {
          "base_uri": "https://localhost:8080/"
        },
        "id": "92vMw69p0e2h",
        "outputId": "44cb041a-a1b6-4994-ed11-bb1a389c199e"
      },
      "execution_count": null,
      "outputs": [
        {
          "output_type": "stream",
          "name": "stdout",
          "text": [
            "Looking in indexes: https://pypi.org/simple, https://us-python.pkg.dev/colab-wheels/public/simple/\n",
            "Collecting bert-serving-server\n",
            "  Downloading bert_serving_server-1.10.0-py3-none-any.whl (61 kB)\n",
            "\u001b[K     |████████████████████████████████| 61 kB 336 kB/s \n",
            "\u001b[?25hRequirement already satisfied: termcolor>=1.1 in /usr/local/lib/python3.7/dist-packages (from bert-serving-server) (1.1.0)\n",
            "Requirement already satisfied: pyzmq>=17.1.0 in /usr/local/lib/python3.7/dist-packages (from bert-serving-server) (23.2.1)\n",
            "Collecting GPUtil>=1.3.0\n",
            "  Downloading GPUtil-1.4.0.tar.gz (5.5 kB)\n",
            "Requirement already satisfied: numpy in /usr/local/lib/python3.7/dist-packages (from bert-serving-server) (1.21.6)\n",
            "Requirement already satisfied: six in /usr/local/lib/python3.7/dist-packages (from bert-serving-server) (1.15.0)\n",
            "Building wheels for collected packages: GPUtil\n",
            "  Building wheel for GPUtil (setup.py) ... \u001b[?25l\u001b[?25hdone\n",
            "  Created wheel for GPUtil: filename=GPUtil-1.4.0-py3-none-any.whl size=7411 sha256=db7d6f639218d0aa81cddd0dfd9190a456119197d7abc7e184344364d90f2007\n",
            "  Stored in directory: /root/.cache/pip/wheels/6e/f8/83/534c52482d6da64622ddbf72cd93c35d2ef2881b78fd08ff0c\n",
            "Successfully built GPUtil\n",
            "Installing collected packages: GPUtil, bert-serving-server\n",
            "Successfully installed GPUtil-1.4.0 bert-serving-server-1.10.0\n"
          ]
        }
      ]
    },
    {
      "cell_type": "code",
      "source": [
        "!wget https://storage.googleapis.com/bert_models/2018_10_18/uncased_L-12_H-768_A-12.zip; unzip uncased_L-12_H-768_A-12.zip"
      ],
      "metadata": {
        "colab": {
          "base_uri": "https://localhost:8080/"
        },
        "id": "d5gy3YEP0mCn",
        "outputId": "ecb50a16-692d-4378-d776-07231df0ef19"
      },
      "execution_count": null,
      "outputs": [
        {
          "output_type": "stream",
          "name": "stdout",
          "text": [
            "--2022-09-03 19:17:39--  https://storage.googleapis.com/bert_models/2018_10_18/uncased_L-12_H-768_A-12.zip\n",
            "Resolving storage.googleapis.com (storage.googleapis.com)... 74.125.24.128, 172.217.194.128, 142.251.12.128, ...\n",
            "Connecting to storage.googleapis.com (storage.googleapis.com)|74.125.24.128|:443... connected.\n",
            "HTTP request sent, awaiting response... 200 OK\n",
            "Length: 407727028 (389M) [application/zip]\n",
            "Saving to: ‘uncased_L-12_H-768_A-12.zip’\n",
            "\n",
            "uncased_L-12_H-768_ 100%[===================>] 388.84M   170MB/s    in 2.3s    \n",
            "\n",
            "2022-09-03 19:17:42 (170 MB/s) - ‘uncased_L-12_H-768_A-12.zip’ saved [407727028/407727028]\n",
            "\n",
            "Archive:  uncased_L-12_H-768_A-12.zip\n",
            "   creating: uncased_L-12_H-768_A-12/\n",
            "  inflating: uncased_L-12_H-768_A-12/bert_model.ckpt.meta  \n",
            "  inflating: uncased_L-12_H-768_A-12/bert_model.ckpt.data-00000-of-00001  \n",
            "  inflating: uncased_L-12_H-768_A-12/vocab.txt  \n",
            "  inflating: uncased_L-12_H-768_A-12/bert_model.ckpt.index  \n",
            "  inflating: uncased_L-12_H-768_A-12/bert_config.json  \n"
          ]
        }
      ]
    },
    {
      "cell_type": "code",
      "source": [
        "!nohup bert-serving-start -show_tokens_to_client -pooling_strategy NONE -model_dir=uncased_L-12_H-768_A-12 > out.log 2>&1 &"
      ],
      "metadata": {
        "id": "hEanTAir0vHI"
      },
      "execution_count": null,
      "outputs": []
    },
    {
      "cell_type": "code",
      "source": [
        "!cat out.log"
      ],
      "metadata": {
        "colab": {
          "base_uri": "https://localhost:8080/"
        },
        "id": "Ji112gvutZzY",
        "outputId": "0b6d2329-a42f-494a-b554-828818fb91f8"
      },
      "execution_count": null,
      "outputs": [
        {
          "output_type": "stream",
          "name": "stdout",
          "text": [
            "/usr/local/lib/python3.7/dist-packages/tensorflow/python/framework/dtypes.py:516: FutureWarning: Passing (type, 1) or '1type' as a synonym of type is deprecated; in a future version of numpy, it will be understood as (type, (1,)) / '(1,)type'.\n",
            "  _np_qint8 = np.dtype([(\"qint8\", np.int8, 1)])\n",
            "/usr/local/lib/python3.7/dist-packages/tensorflow/python/framework/dtypes.py:517: FutureWarning: Passing (type, 1) or '1type' as a synonym of type is deprecated; in a future version of numpy, it will be understood as (type, (1,)) / '(1,)type'.\n",
            "  _np_quint8 = np.dtype([(\"quint8\", np.uint8, 1)])\n",
            "/usr/local/lib/python3.7/dist-packages/tensorflow/python/framework/dtypes.py:518: FutureWarning: Passing (type, 1) or '1type' as a synonym of type is deprecated; in a future version of numpy, it will be understood as (type, (1,)) / '(1,)type'.\n",
            "  _np_qint16 = np.dtype([(\"qint16\", np.int16, 1)])\n",
            "/usr/local/lib/python3.7/dist-packages/tensorflow/python/framework/dtypes.py:519: FutureWarning: Passing (type, 1) or '1type' as a synonym of type is deprecated; in a future version of numpy, it will be understood as (type, (1,)) / '(1,)type'.\n",
            "  _np_quint16 = np.dtype([(\"quint16\", np.uint16, 1)])\n",
            "/usr/local/lib/python3.7/dist-packages/tensorflow/python/framework/dtypes.py:520: FutureWarning: Passing (type, 1) or '1type' as a synonym of type is deprecated; in a future version of numpy, it will be understood as (type, (1,)) / '(1,)type'.\n",
            "  _np_qint32 = np.dtype([(\"qint32\", np.int32, 1)])\n",
            "/usr/local/lib/python3.7/dist-packages/tensorflow/python/framework/dtypes.py:525: FutureWarning: Passing (type, 1) or '1type' as a synonym of type is deprecated; in a future version of numpy, it will be understood as (type, (1,)) / '(1,)type'.\n",
            "  np_resource = np.dtype([(\"resource\", np.ubyte, 1)])\n",
            "/usr/local/lib/python3.7/dist-packages/tensorboard/compat/tensorflow_stub/dtypes.py:541: FutureWarning: Passing (type, 1) or '1type' as a synonym of type is deprecated; in a future version of numpy, it will be understood as (type, (1,)) / '(1,)type'.\n",
            "  _np_qint8 = np.dtype([(\"qint8\", np.int8, 1)])\n",
            "/usr/local/lib/python3.7/dist-packages/tensorboard/compat/tensorflow_stub/dtypes.py:542: FutureWarning: Passing (type, 1) or '1type' as a synonym of type is deprecated; in a future version of numpy, it will be understood as (type, (1,)) / '(1,)type'.\n",
            "  _np_quint8 = np.dtype([(\"quint8\", np.uint8, 1)])\n",
            "/usr/local/lib/python3.7/dist-packages/tensorboard/compat/tensorflow_stub/dtypes.py:543: FutureWarning: Passing (type, 1) or '1type' as a synonym of type is deprecated; in a future version of numpy, it will be understood as (type, (1,)) / '(1,)type'.\n",
            "  _np_qint16 = np.dtype([(\"qint16\", np.int16, 1)])\n",
            "/usr/local/lib/python3.7/dist-packages/tensorboard/compat/tensorflow_stub/dtypes.py:544: FutureWarning: Passing (type, 1) or '1type' as a synonym of type is deprecated; in a future version of numpy, it will be understood as (type, (1,)) / '(1,)type'.\n",
            "  _np_quint16 = np.dtype([(\"quint16\", np.uint16, 1)])\n",
            "/usr/local/lib/python3.7/dist-packages/tensorboard/compat/tensorflow_stub/dtypes.py:545: FutureWarning: Passing (type, 1) or '1type' as a synonym of type is deprecated; in a future version of numpy, it will be understood as (type, (1,)) / '(1,)type'.\n",
            "  _np_qint32 = np.dtype([(\"qint32\", np.int32, 1)])\n",
            "/usr/local/lib/python3.7/dist-packages/tensorboard/compat/tensorflow_stub/dtypes.py:550: FutureWarning: Passing (type, 1) or '1type' as a synonym of type is deprecated; in a future version of numpy, it will be understood as (type, (1,)) / '(1,)type'.\n",
            "  np_resource = np.dtype([(\"resource\", np.ubyte, 1)])\n",
            "I:\u001b[35mVENTILATOR\u001b[0m:[__i:__i: 67]:freeze, optimize and export graph, could take a while...\n",
            "usage: /usr/local/bin/bert-serving-start -show_tokens_to_client -pooling_strategy NONE -model_dir=uncased_L-12_H-768_A-12\n",
            "                 ARG   VALUE\n",
            "__________________________________________________\n",
            "           ckpt_name = bert_model.ckpt\n",
            "         config_name = bert_config.json\n",
            "                cors = *\n",
            "                 cpu = False\n",
            "          device_map = []\n",
            "       do_lower_case = True\n",
            "  fixed_embed_length = False\n",
            "                fp16 = False\n",
            " gpu_memory_fraction = 0.5\n",
            "       graph_tmp_dir = None\n",
            "    http_max_connect = 10\n",
            "           http_port = None\n",
            "        mask_cls_sep = False\n",
            "      max_batch_size = 256\n",
            "         max_seq_len = 25\n",
            "           model_dir = uncased_L-12_H-768_A-12\n",
            "no_position_embeddings = False\n",
            "    no_special_token = False\n",
            "          num_worker = 1\n",
            "       pooling_layer = [-2]\n",
            "    pooling_strategy = NONE\n",
            "                port = 5555\n",
            "            port_out = 5556\n",
            "       prefetch_size = 10\n",
            " priority_batch_size = 16\n",
            "show_tokens_to_client = True\n",
            "     tuned_model_dir = None\n",
            "             verbose = False\n",
            "                 xla = False\n",
            "\n",
            "WARNING:tensorflow:From /usr/local/lib/python3.7/dist-packages/bert_serving/server/helper.py:186: The name tf.logging.set_verbosity is deprecated. Please use tf.compat.v1.logging.set_verbosity instead.\n",
            "\n",
            "WARNING:tensorflow:From /usr/local/lib/python3.7/dist-packages/bert_serving/server/helper.py:186: The name tf.logging.ERROR is deprecated. Please use tf.compat.v1.logging.ERROR instead.\n",
            "\n",
            "I:\u001b[36mGRAPHOPT\u001b[0m:[gra:opt: 53]:model config: uncased_L-12_H-768_A-12/bert_config.json\n",
            "I:\u001b[36mGRAPHOPT\u001b[0m:[gra:opt: 56]:checkpoint: uncased_L-12_H-768_A-12/bert_model.ckpt\n",
            "I:\u001b[36mGRAPHOPT\u001b[0m:[gra:opt: 60]:build graph...\n",
            "I:\u001b[36mGRAPHOPT\u001b[0m:[gra:opt:132]:load parameters from checkpoint...\n",
            "I:\u001b[36mGRAPHOPT\u001b[0m:[gra:opt:136]:optimize...\n",
            "I:\u001b[36mGRAPHOPT\u001b[0m:[gra:opt:144]:freeze...\n",
            "I:\u001b[36mGRAPHOPT\u001b[0m:[gra:opt:149]:write graph to a tmp file: /tmp/tmpzqy5mlx3\n",
            "I:\u001b[35mVENTILATOR\u001b[0m:[__i:__i: 75]:optimized graph is stored at: /tmp/tmpzqy5mlx3\n",
            "I:\u001b[35mVENTILATOR\u001b[0m:[__i:_ru:129]:bind all sockets\n",
            "I:\u001b[35mVENTILATOR\u001b[0m:[__i:_ru:133]:open 8 ventilator-worker sockets\n",
            "I:\u001b[35mVENTILATOR\u001b[0m:[__i:_ru:136]:start the sink\n",
            "I:\u001b[32mSINK\u001b[0m:[__i:_ru:306]:ready\n",
            "I:\u001b[35mVENTILATOR\u001b[0m:[__i:_ge:222]:get devices\n",
            "I:\u001b[35mVENTILATOR\u001b[0m:[__i:_ge:255]:device map: \n",
            "\t\tworker  0 -> gpu  0\n",
            "I:\u001b[33mWORKER-0\u001b[0m:[__i:_ru:531]:use device gpu: 0, load graph from /tmp/tmpzqy5mlx3\n",
            "WARNING:tensorflow:From /usr/local/lib/python3.7/dist-packages/bert_serving/server/helper.py:186: The name tf.logging.set_verbosity is deprecated. Please use tf.compat.v1.logging.set_verbosity instead.\n",
            "\n",
            "WARNING:tensorflow:From /usr/local/lib/python3.7/dist-packages/bert_serving/server/helper.py:186: The name tf.logging.ERROR is deprecated. Please use tf.compat.v1.logging.ERROR instead.\n",
            "\n"
          ]
        }
      ]
    },
    {
      "cell_type": "code",
      "source": [
        "!pip install bert-serving-client"
      ],
      "metadata": {
        "colab": {
          "base_uri": "https://localhost:8080/"
        },
        "id": "cBJ8u6RO02aS",
        "outputId": "83ccfe79-e499-4d29-df2a-47eadc25fbe0"
      },
      "execution_count": null,
      "outputs": [
        {
          "output_type": "stream",
          "name": "stdout",
          "text": [
            "Looking in indexes: https://pypi.org/simple, https://us-python.pkg.dev/colab-wheels/public/simple/\n",
            "Collecting bert-serving-client\n",
            "  Downloading bert_serving_client-1.10.0-py2.py3-none-any.whl (28 kB)\n",
            "Requirement already satisfied: pyzmq>=17.1.0 in /usr/local/lib/python3.7/dist-packages (from bert-serving-client) (23.2.1)\n",
            "Requirement already satisfied: numpy in /usr/local/lib/python3.7/dist-packages (from bert-serving-client) (1.21.6)\n",
            "Installing collected packages: bert-serving-client\n",
            "Successfully installed bert-serving-client-1.10.0\n"
          ]
        }
      ]
    },
    {
      "cell_type": "code",
      "source": [
        "from bert_serving.client import BertClient"
      ],
      "metadata": {
        "id": "4oSPYBjo09e8"
      },
      "execution_count": null,
      "outputs": []
    },
    {
      "cell_type": "code",
      "source": [
        "sentences_list = [\"Make sure to use Tensorflow 1\", \n",
        "                  \"Enable GPU support\", \n",
        "                  \"This is a very easy way of getting BERT embeddings.\",\n",
        "                  \"Natural Language Processing is interesting\", \n",
        "                  \"Have a good day.\", \n",
        "                  \"Bye Bye\"]\n",
        "\n",
        "# embeddings = bc.encode(sentences_list)\n",
        "# embeddings"
      ],
      "metadata": {
        "id": "QF2VKr6q5T4q"
      },
      "execution_count": null,
      "outputs": []
    },
    {
      "cell_type": "code",
      "source": [
        "with BertClient() as bc:\n",
        "  embeddings = bc.encode(sentences_list)"
      ],
      "metadata": {
        "id": "i43Le55Y5SvT"
      },
      "execution_count": null,
      "outputs": []
    },
    {
      "cell_type": "code",
      "source": [
        "embeddings"
      ],
      "metadata": {
        "colab": {
          "base_uri": "https://localhost:8080/"
        },
        "id": "JYXYOAWt-NVL",
        "outputId": "677039dc-715f-448e-bbc7-d33138a211b3"
      },
      "execution_count": null,
      "outputs": [
        {
          "output_type": "execute_result",
          "data": {
            "text/plain": [
              "array([[-0.20731421, -0.521792  , -0.2865781 , ..., -0.26032913,\n",
              "        -0.19108695,  0.17994341],\n",
              "       [-0.19587933, -0.13406706,  0.16485222, ..., -0.3191807 ,\n",
              "        -0.48742318, -0.0873365 ],\n",
              "       [-0.26872393, -0.25595254, -0.07200361, ..., -0.16774395,\n",
              "         0.03898476,  0.80507874],\n",
              "       [-0.55266255, -0.05192706, -0.11685724, ..., -0.55947536,\n",
              "        -0.03546074,  0.19414134],\n",
              "       [ 0.18644726, -0.84649193, -0.04040592, ..., -0.32022542,\n",
              "         0.36588898, -0.20388684],\n",
              "       [-0.3381729 , -0.2532478 ,  0.23695053, ..., -0.32690644,\n",
              "        -0.3832983 ,  0.16540903]], dtype=float32)"
            ]
          },
          "metadata": {},
          "execution_count": 11
        }
      ]
    },
    {
      "cell_type": "code",
      "source": [
        "embeddings.shape"
      ],
      "metadata": {
        "colab": {
          "base_uri": "https://localhost:8080/"
        },
        "id": "VD6hcN6V-bD4",
        "outputId": "f0bbc2f5-5688-4ad8-e356-a8f52eab282b"
      },
      "execution_count": null,
      "outputs": [
        {
          "output_type": "execute_result",
          "data": {
            "text/plain": [
              "(6, 768)"
            ]
          },
          "metadata": {},
          "execution_count": 12
        }
      ]
    },
    {
      "cell_type": "code",
      "source": [
        "!cat out.log"
      ],
      "metadata": {
        "colab": {
          "base_uri": "https://localhost:8080/"
        },
        "id": "SB3onTcc_6qY",
        "outputId": "86aaea89-b50f-498e-8342-bfee535d4f16"
      },
      "execution_count": null,
      "outputs": [
        {
          "output_type": "stream",
          "name": "stdout",
          "text": [
            "/usr/local/lib/python3.7/dist-packages/tensorflow/python/framework/dtypes.py:516: FutureWarning: Passing (type, 1) or '1type' as a synonym of type is deprecated; in a future version of numpy, it will be understood as (type, (1,)) / '(1,)type'.\n",
            "  _np_qint8 = np.dtype([(\"qint8\", np.int8, 1)])\n",
            "/usr/local/lib/python3.7/dist-packages/tensorflow/python/framework/dtypes.py:517: FutureWarning: Passing (type, 1) or '1type' as a synonym of type is deprecated; in a future version of numpy, it will be understood as (type, (1,)) / '(1,)type'.\n",
            "  _np_quint8 = np.dtype([(\"quint8\", np.uint8, 1)])\n",
            "/usr/local/lib/python3.7/dist-packages/tensorflow/python/framework/dtypes.py:518: FutureWarning: Passing (type, 1) or '1type' as a synonym of type is deprecated; in a future version of numpy, it will be understood as (type, (1,)) / '(1,)type'.\n",
            "  _np_qint16 = np.dtype([(\"qint16\", np.int16, 1)])\n",
            "/usr/local/lib/python3.7/dist-packages/tensorflow/python/framework/dtypes.py:519: FutureWarning: Passing (type, 1) or '1type' as a synonym of type is deprecated; in a future version of numpy, it will be understood as (type, (1,)) / '(1,)type'.\n",
            "  _np_quint16 = np.dtype([(\"quint16\", np.uint16, 1)])\n",
            "/usr/local/lib/python3.7/dist-packages/tensorflow/python/framework/dtypes.py:520: FutureWarning: Passing (type, 1) or '1type' as a synonym of type is deprecated; in a future version of numpy, it will be understood as (type, (1,)) / '(1,)type'.\n",
            "  _np_qint32 = np.dtype([(\"qint32\", np.int32, 1)])\n",
            "/usr/local/lib/python3.7/dist-packages/tensorflow/python/framework/dtypes.py:525: FutureWarning: Passing (type, 1) or '1type' as a synonym of type is deprecated; in a future version of numpy, it will be understood as (type, (1,)) / '(1,)type'.\n",
            "  np_resource = np.dtype([(\"resource\", np.ubyte, 1)])\n",
            "/usr/local/lib/python3.7/dist-packages/tensorboard/compat/tensorflow_stub/dtypes.py:541: FutureWarning: Passing (type, 1) or '1type' as a synonym of type is deprecated; in a future version of numpy, it will be understood as (type, (1,)) / '(1,)type'.\n",
            "  _np_qint8 = np.dtype([(\"qint8\", np.int8, 1)])\n",
            "/usr/local/lib/python3.7/dist-packages/tensorboard/compat/tensorflow_stub/dtypes.py:542: FutureWarning: Passing (type, 1) or '1type' as a synonym of type is deprecated; in a future version of numpy, it will be understood as (type, (1,)) / '(1,)type'.\n",
            "  _np_quint8 = np.dtype([(\"quint8\", np.uint8, 1)])\n",
            "/usr/local/lib/python3.7/dist-packages/tensorboard/compat/tensorflow_stub/dtypes.py:543: FutureWarning: Passing (type, 1) or '1type' as a synonym of type is deprecated; in a future version of numpy, it will be understood as (type, (1,)) / '(1,)type'.\n",
            "  _np_qint16 = np.dtype([(\"qint16\", np.int16, 1)])\n",
            "/usr/local/lib/python3.7/dist-packages/tensorboard/compat/tensorflow_stub/dtypes.py:544: FutureWarning: Passing (type, 1) or '1type' as a synonym of type is deprecated; in a future version of numpy, it will be understood as (type, (1,)) / '(1,)type'.\n",
            "  _np_quint16 = np.dtype([(\"quint16\", np.uint16, 1)])\n",
            "/usr/local/lib/python3.7/dist-packages/tensorboard/compat/tensorflow_stub/dtypes.py:545: FutureWarning: Passing (type, 1) or '1type' as a synonym of type is deprecated; in a future version of numpy, it will be understood as (type, (1,)) / '(1,)type'.\n",
            "  _np_qint32 = np.dtype([(\"qint32\", np.int32, 1)])\n",
            "/usr/local/lib/python3.7/dist-packages/tensorboard/compat/tensorflow_stub/dtypes.py:550: FutureWarning: Passing (type, 1) or '1type' as a synonym of type is deprecated; in a future version of numpy, it will be understood as (type, (1,)) / '(1,)type'.\n",
            "  np_resource = np.dtype([(\"resource\", np.ubyte, 1)])\n",
            "I:\u001b[35mVENTILATOR\u001b[0m:[__i:__i: 67]:freeze, optimize and export graph, could take a while...\n",
            "usage: /usr/local/bin/bert-serving-start -show_tokens_to_client -pooling_strategy NONE -model_dir=uncased_L-12_H-768_A-12\n",
            "                 ARG   VALUE\n",
            "__________________________________________________\n",
            "           ckpt_name = bert_model.ckpt\n",
            "         config_name = bert_config.json\n",
            "                cors = *\n",
            "                 cpu = False\n",
            "          device_map = []\n",
            "       do_lower_case = True\n",
            "  fixed_embed_length = False\n",
            "                fp16 = False\n",
            " gpu_memory_fraction = 0.5\n",
            "       graph_tmp_dir = None\n",
            "    http_max_connect = 10\n",
            "           http_port = None\n",
            "        mask_cls_sep = False\n",
            "      max_batch_size = 256\n",
            "         max_seq_len = 25\n",
            "           model_dir = uncased_L-12_H-768_A-12\n",
            "no_position_embeddings = False\n",
            "    no_special_token = False\n",
            "          num_worker = 1\n",
            "       pooling_layer = [-2]\n",
            "    pooling_strategy = NONE\n",
            "                port = 5555\n",
            "            port_out = 5556\n",
            "       prefetch_size = 10\n",
            " priority_batch_size = 16\n",
            "show_tokens_to_client = True\n",
            "     tuned_model_dir = None\n",
            "             verbose = False\n",
            "                 xla = False\n",
            "\n",
            "WARNING:tensorflow:From /usr/local/lib/python3.7/dist-packages/bert_serving/server/helper.py:186: The name tf.logging.set_verbosity is deprecated. Please use tf.compat.v1.logging.set_verbosity instead.\n",
            "\n",
            "WARNING:tensorflow:From /usr/local/lib/python3.7/dist-packages/bert_serving/server/helper.py:186: The name tf.logging.ERROR is deprecated. Please use tf.compat.v1.logging.ERROR instead.\n",
            "\n",
            "I:\u001b[36mGRAPHOPT\u001b[0m:[gra:opt: 53]:model config: uncased_L-12_H-768_A-12/bert_config.json\n",
            "I:\u001b[36mGRAPHOPT\u001b[0m:[gra:opt: 56]:checkpoint: uncased_L-12_H-768_A-12/bert_model.ckpt\n",
            "I:\u001b[36mGRAPHOPT\u001b[0m:[gra:opt: 60]:build graph...\n",
            "I:\u001b[36mGRAPHOPT\u001b[0m:[gra:opt:132]:load parameters from checkpoint...\n",
            "I:\u001b[36mGRAPHOPT\u001b[0m:[gra:opt:136]:optimize...\n",
            "I:\u001b[36mGRAPHOPT\u001b[0m:[gra:opt:144]:freeze...\n",
            "I:\u001b[36mGRAPHOPT\u001b[0m:[gra:opt:149]:write graph to a tmp file: /tmp/tmpzqy5mlx3\n",
            "I:\u001b[35mVENTILATOR\u001b[0m:[__i:__i: 75]:optimized graph is stored at: /tmp/tmpzqy5mlx3\n",
            "I:\u001b[35mVENTILATOR\u001b[0m:[__i:_ru:129]:bind all sockets\n",
            "I:\u001b[35mVENTILATOR\u001b[0m:[__i:_ru:133]:open 8 ventilator-worker sockets\n",
            "I:\u001b[35mVENTILATOR\u001b[0m:[__i:_ru:136]:start the sink\n",
            "I:\u001b[32mSINK\u001b[0m:[__i:_ru:306]:ready\n",
            "I:\u001b[35mVENTILATOR\u001b[0m:[__i:_ge:222]:get devices\n",
            "I:\u001b[35mVENTILATOR\u001b[0m:[__i:_ge:255]:device map: \n",
            "\t\tworker  0 -> gpu  0\n",
            "I:\u001b[33mWORKER-0\u001b[0m:[__i:_ru:531]:use device gpu: 0, load graph from /tmp/tmpzqy5mlx3\n",
            "WARNING:tensorflow:From /usr/local/lib/python3.7/dist-packages/bert_serving/server/helper.py:186: The name tf.logging.set_verbosity is deprecated. Please use tf.compat.v1.logging.set_verbosity instead.\n",
            "\n",
            "WARNING:tensorflow:From /usr/local/lib/python3.7/dist-packages/bert_serving/server/helper.py:186: The name tf.logging.ERROR is deprecated. Please use tf.compat.v1.logging.ERROR instead.\n",
            "\n",
            "I:\u001b[33mWORKER-0\u001b[0m:[__i:gen:559]:ready and listening!\n",
            "I:\u001b[35mVENTILATOR\u001b[0m:[__i:_ru:164]:all set, ready to serve request!\n"
          ]
        }
      ]
    },
    {
      "cell_type": "code",
      "source": [
        "p_vec = [\"name\", \"birth Place\", \"birth Date\", \"birth Name\", \"caption\", \"children\", \"occupation\", \"spouse\", \"align\", \"bg\", \"honorific Suffix\", \"quote\", \"source\", \"title\", \"width\", \"which\", \"singer\", \"from\", \"london\", \"is\", \"married\", \"to\", \"David\", \"Beckham\", \"born\", \"in\", \"a\", \"city\", \"of\", \"London\"]\n",
        "\n",
        "\n",
        "#a_vec = [\"which\", \"singer\", \"from\", \"london\", \"is married\", \"to\", \"David Beckham\", \"born in\", \"a\", \"city\", \"of\", \"London\"]"
      ],
      "metadata": {
        "id": "RpTVPGMtT_gP"
      },
      "execution_count": null,
      "outputs": []
    },
    {
      "cell_type": "code",
      "source": [
        "a_vec = [\"which\", \"singer\", \"from\", \"london\", \"is married\", \"to\", \"David Beckham\", \"born in\", \"a\", \"city\", \"of\", \"London\"]"
      ],
      "metadata": {
        "id": "6MN3a57BB899"
      },
      "execution_count": null,
      "outputs": []
    },
    {
      "cell_type": "code",
      "source": [
        "with BertClient() as bc:\n",
        "  embeddings1 = bc.encode(p_vec)\n",
        " # embeddings2 = bc.encode(a_vec)"
      ],
      "metadata": {
        "id": "7PJUcECPUG9u"
      },
      "execution_count": null,
      "outputs": []
    },
    {
      "cell_type": "code",
      "source": [
        "with BertClient() as bc:\n",
        "  embeddings2 = bc.encode(a_vec)"
      ],
      "metadata": {
        "id": "Hbq7PnEKB2uc"
      },
      "execution_count": null,
      "outputs": []
    },
    {
      "cell_type": "code",
      "source": [
        "embeddings1"
      ],
      "metadata": {
        "colab": {
          "base_uri": "https://localhost:8080/"
        },
        "id": "mpSExGHkU90y",
        "outputId": "71d55bc1-108f-483c-802d-000b7541f6b9"
      },
      "execution_count": null,
      "outputs": [
        {
          "output_type": "execute_result",
          "data": {
            "text/plain": [
              "array([[-0.5400475 , -0.11281839,  0.104222  , ..., -0.58833826,\n",
              "        -0.14664793,  0.2515408 ],\n",
              "       [-0.42452067, -0.12555401, -0.18092602, ..., -0.74793553,\n",
              "        -0.41701853, -0.06019332],\n",
              "       [-0.48150885, -0.27600226, -0.11645446, ..., -0.66544074,\n",
              "        -0.26152825, -0.29914522],\n",
              "       ...,\n",
              "       [-0.5217937 , -0.44375467, -0.0436019 , ..., -0.7386224 ,\n",
              "        -0.19877674,  0.1008744 ],\n",
              "       [-0.8641494 , -0.3570616 , -0.17295162, ..., -0.36195818,\n",
              "        -0.01480732,  0.05701283],\n",
              "       [-0.21259008, -0.25887215, -0.50328493, ..., -0.24773411,\n",
              "        -0.15063502, -0.5086026 ]], dtype=float32)"
            ]
          },
          "metadata": {},
          "execution_count": 18
        }
      ]
    },
    {
      "cell_type": "code",
      "source": [
        "embeddings1.shape"
      ],
      "metadata": {
        "colab": {
          "base_uri": "https://localhost:8080/"
        },
        "id": "whxtv4EGVFAU",
        "outputId": "cabdc03b-83ba-4d51-e231-24b1c3ef1d53"
      },
      "execution_count": null,
      "outputs": [
        {
          "output_type": "execute_result",
          "data": {
            "text/plain": [
              "(30, 768)"
            ]
          },
          "metadata": {},
          "execution_count": 19
        }
      ]
    },
    {
      "cell_type": "code",
      "source": [
        "embeddings2.shape"
      ],
      "metadata": {
        "colab": {
          "base_uri": "https://localhost:8080/"
        },
        "id": "Gjiw0pQKVJ0t",
        "outputId": "94ce7e69-3938-4312-f4c9-302ee954082c"
      },
      "execution_count": null,
      "outputs": [
        {
          "output_type": "execute_result",
          "data": {
            "text/plain": [
              "(12, 768)"
            ]
          },
          "metadata": {},
          "execution_count": 20
        }
      ]
    },
    {
      "cell_type": "code",
      "source": [
        "#X = X.reshape(5, 2)"
      ],
      "metadata": {
        "id": "34zHX5K_JJBC"
      },
      "execution_count": null,
      "outputs": []
    },
    {
      "cell_type": "code",
      "source": [
        "cosine_similarity_list = []\n",
        "k = 0\n",
        "l = 0\n",
        "for i in embeddings1:\n",
        "  for j in embeddings2:\n",
        "    w = (str(k) + \"+\" + str(l) + str(cosine_similarity([i],[j])))\n",
        "    cosine_similarity_list.append(w)\n",
        "    l+=1\n",
        "  l = 0\n",
        "  k+=1"
      ],
      "metadata": {
        "id": "QoCpXjUsiyFW"
      },
      "execution_count": null,
      "outputs": []
    },
    {
      "cell_type": "code",
      "source": [
        "print(cosine_similarity_list)"
      ],
      "metadata": {
        "colab": {
          "base_uri": "https://localhost:8080/"
        },
        "id": "qt6Rc3GBjzkd",
        "outputId": "1d66524b-ea33-45b6-a310-958a8388e2d8"
      },
      "execution_count": null,
      "outputs": [
        {
          "output_type": "stream",
          "name": "stdout",
          "text": [
            "['0+0[[0.771175]]', '0+1[[0.7183809]]', '0+2[[0.7802113]]', '0+3[[0.67652696]]', '0+4[[0.6620531]]', '0+5[[0.7448363]]', '0+6[[0.5553797]]', '0+7[[0.6809014]]', '0+8[[0.8042114]]', '0+9[[0.74776304]]', '0+10[[0.80224156]]', '0+11[[0.67652696]]', '1+0[[0.44040173]]', '1+1[[0.5742101]]', '1+2[[0.4391988]]', '1+3[[0.4510226]]', '1+4[[0.6168823]]', '1+5[[0.38016242]]', '1+6[[0.39446664]]', '1+7[[0.6593987]]', '1+8[[0.43255484]]', '1+9[[0.51256955]]', '1+10[[0.44635522]]', '1+11[[0.4510226]]', '2+0[[0.46810615]]', '2+1[[0.5989398]]', '2+2[[0.48812562]]', '2+3[[0.4624751]]', '2+4[[0.656114]]', '2+5[[0.41206574]]', '2+6[[0.41010284]]', '2+7[[0.7207687]]', '2+8[[0.47036654]]', '2+9[[0.5212861]]', '2+10[[0.48687232]]', '2+11[[0.4624751]]', '3+0[[0.4945084]]', '3+1[[0.60636914]]', '3+2[[0.48312205]]', '3+3[[0.47656983]]', '3+4[[0.6975804]]', '3+5[[0.41082764]]', '3+6[[0.4165951]]', '3+7[[0.75534093]]', '3+8[[0.48014575]]', '3+9[[0.5141849]]', '3+10[[0.48709178]]', '3+11[[0.47656983]]', '4+0[[0.604923]]', '4+1[[0.5610726]]', '4+2[[0.62564844]]', '4+3[[0.63490915]]', '4+4[[0.5295204]]', '4+5[[0.5291997]]', '4+6[[0.5519657]]', '4+7[[0.6191378]]', '4+8[[0.605526]]', '4+9[[0.6082566]]', '4+10[[0.599522]]', '4+11[[0.63490915]]', '5+0[[0.6129899]]', '5+1[[0.6771872]]', '5+2[[0.6004797]]', '5+3[[0.6325488]]', '5+4[[0.6264449]]', '5+5[[0.5292742]]', '5+6[[0.5183013]]', '5+7[[0.6001958]]', '5+8[[0.60406065]]', '5+9[[0.6827413]]', '5+10[[0.6281197]]', '5+11[[0.6325488]]', '6+0[[0.6866804]]', '6+1[[0.6405145]]', '6+2[[0.65076363]]', '6+3[[0.68198395]]', '6+4[[0.61011976]]', '6+5[[0.6158525]]', '6+6[[0.50318277]]', '6+7[[0.67766285]]', '6+8[[0.6876795]]', '6+9[[0.68911934]]', '6+10[[0.647267]]', '6+11[[0.68198395]]', '7+0[[0.7842235]]', '7+1[[0.70811963]]', '7+2[[0.7751056]]', '7+3[[0.70909894]]', '7+4[[0.70136535]]', '7+5[[0.7452954]]', '7+6[[0.5606549]]', '7+7[[0.6759379]]', '7+8[[0.811028]]', '7+9[[0.74254346]]', '7+10[[0.79673254]]', '7+11[[0.70909894]]', '8+0[[0.73514146]]', '8+1[[0.6000763]]', '8+2[[0.73958135]]', '8+3[[0.7200924]]', '8+4[[0.5535681]]', '8+5[[0.6748321]]', '8+6[[0.56889313]]', '8+7[[0.59830064]]', '8+8[[0.72223526]]', '8+9[[0.67160505]]', '8+10[[0.7052138]]', '8+11[[0.7200924]]', '9+0[[0.6891017]]', '9+1[[0.6222104]]', '9+2[[0.69347847]]', '9+3[[0.60638374]]', '9+4[[0.55923474]]', '9+5[[0.6649645]]', '9+6[[0.5129804]]', '9+7[[0.55791575]]', '9+8[[0.80185485]]', '9+9[[0.58250785]]', '9+10[[0.68797946]]', '9+11[[0.60638374]]', '10+0[[0.59837794]]', '10+1[[0.5361126]]', '10+2[[0.57233787]]', '10+3[[0.525182]]', '10+4[[0.58471555]]', '10+5[[0.5227215]]', '10+6[[0.48423254]]', '10+7[[0.63991404]]', '10+8[[0.60901755]]', '10+9[[0.540413]]', '10+10[[0.5435319]]', '10+11[[0.525182]]', '11+0[[0.7278071]]', '11+1[[0.6108907]]', '11+2[[0.7696624]]', '11+3[[0.625474]]', '11+4[[0.565052]]', '11+5[[0.6993246]]', '11+6[[0.54427975]]', '11+7[[0.5974278]]', '11+8[[0.7207706]]', '11+9[[0.6274061]]', '11+10[[0.719978]]', '11+11[[0.625474]]', '12+0[[0.44235563]]', '12+1[[0.49936303]]', '12+2[[0.5122417]]', '12+3[[0.40863332]]', '12+4[[0.39159092]]', '12+5[[0.401687]]', '12+6[[0.36278197]]', '12+7[[0.4562688]]', '12+8[[0.43340838]]', '12+9[[0.551991]]', '12+10[[0.45584]]', '12+11[[0.40863332]]', '13+0[[0.65781546]]', '13+1[[0.7016388]]', '13+2[[0.67168164]]', '13+3[[0.6290057]]', '13+4[[0.57672554]]', '13+5[[0.5761411]]', '13+6[[0.48801985]]', '13+7[[0.61795086]]', '13+8[[0.6653998]]', '13+9[[0.7089319]]', '13+10[[0.679704]]', '13+11[[0.6290057]]', '14+0[[0.7336713]]', '14+1[[0.61397755]]', '14+2[[0.7106763]]', '14+3[[0.6942189]]', '14+4[[0.6009483]]', '14+5[[0.6552323]]', '14+6[[0.5556207]]', '14+7[[0.65933603]]', '14+8[[0.7626923]]', '14+9[[0.6746821]]', '14+10[[0.6873528]]', '14+11[[0.6942189]]', '15+0[[1.0000002]]', '15+1[[0.61908937]]', '15+2[[0.81012666]]', '15+3[[0.7044068]]', '15+4[[0.60795665]]', '15+5[[0.7955351]]', '15+6[[0.5393746]]', '15+7[[0.62919927]]', '15+8[[0.8400045]]', '15+9[[0.69349223]]', '15+10[[0.8209448]]', '15+11[[0.7044068]]', '16+0[[0.61908937]]', '16+1[[0.99999976]]', '16+2[[0.6071611]]', '16+3[[0.60852766]]', '16+4[[0.68967795]]', '16+5[[0.54726905]]', '16+6[[0.5355373]]', '16+7[[0.64496756]]', '16+8[[0.61640644]]', '16+9[[0.6618089]]', '16+10[[0.6332737]]', '16+11[[0.60852766]]', '17+0[[0.81012666]]', '17+1[[0.6071611]]', '17+2[[1.]]', '17+3[[0.6772528]]', '17+4[[0.5607158]]', '17+5[[0.80016905]]', '17+6[[0.54790634]]', '17+7[[0.6458276]]', '17+8[[0.8366133]]', '17+9[[0.6899779]]', '17+10[[0.85336345]]', '17+11[[0.6772528]]', '18+0[[0.7044068]]', '18+1[[0.60852766]]', '18+2[[0.6772528]]', '18+3[[1.0000001]]', '18+4[[0.5523987]]', '18+5[[0.62239236]]', '18+6[[0.65708935]]', '18+7[[0.63052535]]', '18+8[[0.66833943]]', '18+9[[0.7253923]]', '18+10[[0.6688698]]', '18+11[[1.0000001]]', '19+0[[0.862435]]', '19+1[[0.61892563]]', '19+2[[0.8322797]]', '19+3[[0.66299427]]', '19+4[[0.6430621]]', '19+5[[0.8249075]]', '19+6[[0.52455795]]', '19+7[[0.62233067]]', '19+8[[0.893061]]', '19+9[[0.6836046]]', '19+10[[0.8473792]]', '19+11[[0.66299427]]', '20+0[[0.68133473]]', '20+1[[0.6914152]]', '20+2[[0.64352036]]', '20+3[[0.6038115]]', '20+4[[0.85834134]]', '20+5[[0.6522423]]', '20+6[[0.4836603]]', '20+7[[0.73150265]]', '20+8[[0.6769697]]', '20+9[[0.64763117]]', '20+10[[0.67072046]]', '20+11[[0.6038115]]', '21+0[[0.7955351]]', '21+1[[0.54726905]]', '21+2[[0.80016905]]', '21+3[[0.62239236]]', '21+4[[0.5448004]]', '21+5[[1.0000001]]', '21+6[[0.47911203]]', '21+7[[0.5605804]]', '21+8[[0.8429831]]', '21+9[[0.61491764]]', '21+10[[0.81171376]]', '21+11[[0.62239236]]', '22+0[[0.7661202]]', '22+1[[0.66052544]]', '22+2[[0.7775589]]', '22+3[[0.7530604]]', '22+4[[0.6213966]]', '22+5[[0.70276517]]', '22+6[[0.6459006]]', '22+7[[0.6448249]]', '22+8[[0.78679204]]', '22+9[[0.73533094]]', '22+10[[0.7850802]]', '22+11[[0.7530604]]', '23+0[[0.5516913]]', '23+1[[0.45064858]]', '23+2[[0.5133579]]', '23+3[[0.6562779]]', '23+4[[0.4228145]]', '23+5[[0.46968]]', '23+6[[0.77668285]]', '23+7[[0.50848764]]', '23+8[[0.5150676]]', '23+9[[0.5534888]]', '23+10[[0.5002874]]', '23+11[[0.6562779]]', '24+0[[0.73018956]]', '24+1[[0.6789291]]', '24+2[[0.7520011]]', '24+3[[0.66093767]]', '24+4[[0.7161604]]', '24+5[[0.6904994]]', '24+6[[0.5176938]]', '24+7[[0.83011246]]', '24+8[[0.73643845]]', '24+9[[0.71672887]]', '24+10[[0.72889626]]', '24+11[[0.66093767]]', '25+0[[0.79575247]]', '25+1[[0.64645875]]', '25+2[[0.8420032]]', '25+3[[0.7608978]]', '25+4[[0.5994799]]', '25+5[[0.7313421]]', '25+6[[0.56030583]]', '25+7[[0.6715064]]', '25+8[[0.81358397]]', '25+9[[0.7233599]]', '25+10[[0.8131669]]', '25+11[[0.7608978]]', '26+0[[0.8400045]]', '26+1[[0.61640644]]', '26+2[[0.8366133]]', '26+3[[0.66833943]]', '26+4[[0.59235656]]', '26+5[[0.8429831]]', '26+6[[0.52894783]]', '26+7[[0.6181134]]', '26+8[[0.99999976]]', '26+9[[0.6769466]]', '26+10[[0.8556003]]', '26+11[[0.66833943]]', '27+0[[0.69349223]]', '27+1[[0.6618089]]', '27+2[[0.6899779]]', '27+3[[0.7253923]]', '27+4[[0.58733034]]', '27+5[[0.61491764]]', '27+6[[0.49557373]]', '27+7[[0.6389506]]', '27+8[[0.6769466]]', '27+9[[1.0000002]]', '27+10[[0.71605414]]', '27+11[[0.7253923]]', '28+0[[0.8209448]]', '28+1[[0.6332737]]', '28+2[[0.85336345]]', '28+3[[0.6688698]]', '28+4[[0.60061204]]', '28+5[[0.81171376]]', '28+6[[0.49678475]]', '28+7[[0.6155753]]', '28+8[[0.8556003]]', '28+9[[0.71605414]]', '28+10[[0.99999964]]', '28+11[[0.6688698]]', '29+0[[0.7044068]]', '29+1[[0.60852766]]', '29+2[[0.6772528]]', '29+3[[1.0000001]]', '29+4[[0.5523987]]', '29+5[[0.62239236]]', '29+6[[0.65708935]]', '29+7[[0.63052535]]', '29+8[[0.66833943]]', '29+9[[0.7253923]]', '29+10[[0.6688698]]', '29+11[[1.0000001]]']\n"
          ]
        }
      ]
    },
    {
      "cell_type": "code",
      "source": [
        "len(cosine_similarity_list)"
      ],
      "metadata": {
        "id": "7f5Yy8sjkriv",
        "colab": {
          "base_uri": "https://localhost:8080/"
        },
        "outputId": "e358fa58-50e0-4a03-ac35-116ca4c9b866"
      },
      "execution_count": null,
      "outputs": [
        {
          "output_type": "execute_result",
          "data": {
            "text/plain": [
              "360"
            ]
          },
          "metadata": {},
          "execution_count": 33
        }
      ]
    },
    {
      "cell_type": "markdown",
      "source": [
        "# **TOKENIZER**"
      ],
      "metadata": {
        "id": "1g60TUxXwkxv"
      }
    },
    {
      "cell_type": "code",
      "source": [
        "texts = ['which singer from london is married to David Beckham born in a city of London']\n",
        "\n",
        "# a naive whitespace tokenizer\n",
        "texts2 = [s.split() for s in texts]"
      ],
      "metadata": {
        "id": "3wYi4Lsgy-4x"
      },
      "execution_count": 1,
      "outputs": []
    },
    {
      "cell_type": "code",
      "source": [
        "with BertClient() as bc:\n",
        "  vec = bc.encode(['hello world!', 'thisis it'], show_tokens=True)\n",
        "\n",
        "vec"
      ],
      "metadata": {
        "colab": {
          "base_uri": "https://localhost:8080/",
          "height": 217
        },
        "id": "h7AMgAs_v7VU",
        "outputId": "aa317d58-0bea-44e0-d4b3-6dbd6ab29a1d"
      },
      "execution_count": 2,
      "outputs": [
        {
          "output_type": "error",
          "ename": "NameError",
          "evalue": "ignored",
          "traceback": [
            "\u001b[0;31m---------------------------------------------------------------------------\u001b[0m",
            "\u001b[0;31mNameError\u001b[0m                                 Traceback (most recent call last)",
            "\u001b[0;32m<ipython-input-2-27db077f6bef>\u001b[0m in \u001b[0;36m<module>\u001b[0;34m\u001b[0m\n\u001b[0;32m----> 1\u001b[0;31m \u001b[0;32mwith\u001b[0m \u001b[0mBertClient\u001b[0m\u001b[0;34m(\u001b[0m\u001b[0;34m)\u001b[0m \u001b[0;32mas\u001b[0m \u001b[0mbc\u001b[0m\u001b[0;34m:\u001b[0m\u001b[0;34m\u001b[0m\u001b[0;34m\u001b[0m\u001b[0m\n\u001b[0m\u001b[1;32m      2\u001b[0m   \u001b[0mvec\u001b[0m \u001b[0;34m=\u001b[0m \u001b[0mbc\u001b[0m\u001b[0;34m.\u001b[0m\u001b[0mencode\u001b[0m\u001b[0;34m(\u001b[0m\u001b[0;34m[\u001b[0m\u001b[0;34m'hello world!'\u001b[0m\u001b[0;34m,\u001b[0m \u001b[0;34m'thisis it'\u001b[0m\u001b[0;34m]\u001b[0m\u001b[0;34m,\u001b[0m \u001b[0mshow_tokens\u001b[0m\u001b[0;34m=\u001b[0m\u001b[0;32mTrue\u001b[0m\u001b[0;34m)\u001b[0m\u001b[0;34m\u001b[0m\u001b[0;34m\u001b[0m\u001b[0m\n\u001b[1;32m      3\u001b[0m \u001b[0;34m\u001b[0m\u001b[0m\n\u001b[1;32m      4\u001b[0m \u001b[0mvec\u001b[0m\u001b[0;34m\u001b[0m\u001b[0;34m\u001b[0m\u001b[0m\n",
            "\u001b[0;31mNameError\u001b[0m: name 'BertClient' is not defined"
          ]
        }
      ]
    },
    {
      "cell_type": "code",
      "source": [
        "texts2"
      ],
      "metadata": {
        "id": "ztfVKSZl0fEl"
      },
      "execution_count": null,
      "outputs": []
    },
    {
      "cell_type": "code",
      "source": [
        "with BertClient() as bc:\n",
        "  toke = bc.encode(texts2, show_tokens=True, is_tokenized=True)"
      ],
      "metadata": {
        "id": "JMa2hwRBl2v3"
      },
      "execution_count": null,
      "outputs": []
    },
    {
      "cell_type": "code",
      "source": [
        "toke"
      ],
      "metadata": {
        "id": "Tnmgi4x0s10T"
      },
      "execution_count": null,
      "outputs": []
    },
    {
      "cell_type": "code",
      "source": [
        "toke[0][1]"
      ],
      "metadata": {
        "id": "qMxWnjxUmjUZ"
      },
      "execution_count": null,
      "outputs": []
    },
    {
      "cell_type": "code",
      "source": [
        "texts3 = ['which singer from london is married to David Beckham born in a city of London']\n"
      ],
      "metadata": {
        "id": "QPPU4gcLl3MN"
      },
      "execution_count": null,
      "outputs": []
    },
    {
      "cell_type": "code",
      "source": [
        "with BertClient() as bc:\n",
        "  toke = bc.encode(texts3, show_tokens=True)\n",
        "\n",
        "toke"
      ],
      "metadata": {
        "id": "XxRE6it20AQu"
      },
      "execution_count": null,
      "outputs": []
    },
    {
      "cell_type": "code",
      "source": [
        "toke[0][0][10]"
      ],
      "metadata": {
        "id": "JVU8JqmE0Qwn"
      },
      "execution_count": null,
      "outputs": []
    },
    {
      "cell_type": "code",
      "source": [
        "toke[1][0][10]"
      ],
      "metadata": {
        "id": "pR7-gpam0hqp"
      },
      "execution_count": null,
      "outputs": []
    },
    {
      "cell_type": "code",
      "source": [
        "toke.shape"
      ],
      "metadata": {
        "id": "wYSrO1NOkZgD"
      },
      "execution_count": null,
      "outputs": []
    },
    {
      "cell_type": "code",
      "source": [
        "def encode_sentence(sent):\n",
        "  return ['[CLS]'] + sent.split() + ['[SEP]']"
      ],
      "metadata": {
        "id": "o5n_ihjNvtpD"
      },
      "execution_count": null,
      "outputs": []
    },
    {
      "cell_type": "code",
      "source": [
        "perg = \"which singer from london is married to David Beckham born in a city of London\""
      ],
      "metadata": {
        "id": "IX6k-R9wwfIm"
      },
      "execution_count": null,
      "outputs": []
    },
    {
      "cell_type": "markdown",
      "source": [
        "\n",
        "\n",
        "\n",
        "\n",
        "\n",
        "\n",
        "# **GRÁFICO**"
      ],
      "metadata": {
        "id": "-vVQgSFTvKnt"
      }
    },
    {
      "cell_type": "code",
      "source": [
        "!pip install umap-learn"
      ],
      "metadata": {
        "colab": {
          "base_uri": "https://localhost:8080/"
        },
        "id": "4CS9e7vHUQYU",
        "outputId": "4f228890-aa80-47d1-9f4c-8a5b635aa7f4"
      },
      "execution_count": null,
      "outputs": [
        {
          "output_type": "stream",
          "name": "stdout",
          "text": [
            "Looking in indexes: https://pypi.org/simple, https://us-python.pkg.dev/colab-wheels/public/simple/\n",
            "Collecting umap-learn\n",
            "  Downloading umap-learn-0.5.3.tar.gz (88 kB)\n",
            "\u001b[K     |████████████████████████████████| 88 kB 6.8 MB/s \n",
            "\u001b[?25hRequirement already satisfied: numpy>=1.17 in /usr/local/lib/python3.7/dist-packages (from umap-learn) (1.21.6)\n",
            "Requirement already satisfied: scikit-learn>=0.22 in /usr/local/lib/python3.7/dist-packages (from umap-learn) (1.0.2)\n",
            "Requirement already satisfied: scipy>=1.0 in /usr/local/lib/python3.7/dist-packages (from umap-learn) (1.7.3)\n",
            "Requirement already satisfied: numba>=0.49 in /usr/local/lib/python3.7/dist-packages (from umap-learn) (0.56.0)\n",
            "Collecting pynndescent>=0.5\n",
            "  Downloading pynndescent-0.5.7.tar.gz (1.1 MB)\n",
            "\u001b[K     |████████████████████████████████| 1.1 MB 30.1 MB/s \n",
            "\u001b[?25hRequirement already satisfied: tqdm in /usr/local/lib/python3.7/dist-packages (from umap-learn) (4.64.0)\n",
            "Requirement already satisfied: llvmlite<0.40,>=0.39.0dev0 in /usr/local/lib/python3.7/dist-packages (from numba>=0.49->umap-learn) (0.39.0)\n",
            "Requirement already satisfied: importlib-metadata in /usr/local/lib/python3.7/dist-packages (from numba>=0.49->umap-learn) (4.12.0)\n",
            "Requirement already satisfied: setuptools in /usr/local/lib/python3.7/dist-packages (from numba>=0.49->umap-learn) (57.4.0)\n",
            "Requirement already satisfied: joblib>=0.11 in /usr/local/lib/python3.7/dist-packages (from pynndescent>=0.5->umap-learn) (1.1.0)\n",
            "Requirement already satisfied: threadpoolctl>=2.0.0 in /usr/local/lib/python3.7/dist-packages (from scikit-learn>=0.22->umap-learn) (3.1.0)\n",
            "Requirement already satisfied: zipp>=0.5 in /usr/local/lib/python3.7/dist-packages (from importlib-metadata->numba>=0.49->umap-learn) (3.8.1)\n",
            "Requirement already satisfied: typing-extensions>=3.6.4 in /usr/local/lib/python3.7/dist-packages (from importlib-metadata->numba>=0.49->umap-learn) (4.1.1)\n",
            "Building wheels for collected packages: umap-learn, pynndescent\n",
            "  Building wheel for umap-learn (setup.py) ... \u001b[?25l\u001b[?25hdone\n",
            "  Created wheel for umap-learn: filename=umap_learn-0.5.3-py3-none-any.whl size=82829 sha256=d800c945dae1cf231114c56a5d72ab130b3edc348702896db0361021c7924569\n",
            "  Stored in directory: /root/.cache/pip/wheels/b3/52/a5/1fd9e3e76a7ab34f134c07469cd6f16e27ef3a37aeff1fe821\n",
            "  Building wheel for pynndescent (setup.py) ... \u001b[?25l\u001b[?25hdone\n",
            "  Created wheel for pynndescent: filename=pynndescent-0.5.7-py3-none-any.whl size=54286 sha256=6c063780e79c3b96cbcaff7dec45b6f4fdf8df4d4b21fdcac0a3051242a3325b\n",
            "  Stored in directory: /root/.cache/pip/wheels/7f/2a/f8/7bd5dcec71bd5c669f6f574db3113513696b98f3f9b51f496c\n",
            "Successfully built umap-learn pynndescent\n",
            "Installing collected packages: pynndescent, umap-learn\n",
            "Successfully installed pynndescent-0.5.7 umap-learn-0.5.3\n"
          ]
        }
      ]
    },
    {
      "cell_type": "code",
      "source": [
        "import umap\n",
        "import matplotlib.pyplot as plt\n",
        "import seaborn as sns\n",
        "\n",
        "sns.set(context=\"paper\", style=\"white\")\n",
        "\n",
        "\n",
        "reducer = umap.UMAP(random_state=42, n_neighbors=5, n_components=2, min_dist=0)\n",
        "embedding = reducer.fit_transform(embeddings1)\n",
        "\n",
        "#embedding2 = reducer.fit_transform(embeddings2)\n",
        "\n"
      ],
      "metadata": {
        "id": "3cPTq11XVUFY"
      },
      "execution_count": null,
      "outputs": []
    },
    {
      "cell_type": "code",
      "source": [
        "from matplotlib import pyplot as plt\n",
        "plt.scatter(embedding[:,0],embedding[:,1])\n",
        "#plt.scatter(embedding2[:,0],embedding2[:,1], color=\"red\")\n",
        "plt.show()\n"
      ],
      "metadata": {
        "colab": {
          "base_uri": "https://localhost:8080/",
          "height": 266
        },
        "id": "ZRtNO777aJt3",
        "outputId": "8a4bf6c9-c01a-483e-bfa5-f0e1f64629e0"
      },
      "execution_count": null,
      "outputs": [
        {
          "output_type": "display_data",
          "data": {
            "text/plain": [
              "<Figure size 432x288 with 1 Axes>"
            ],
            "image/png": "[encoded data removed]"
          },
          "metadata": {}
        }
      ]
    },
    {
      "cell_type": "code",
      "source": [
        "fig, ax = plt.subplots()\n",
        "\n",
        "ax.scatter(embedding[:,0],embedding[:,1])\n",
        "\n",
        "for i,p in enumerate(p_vec):\n",
        "    ax.annotate(p, embedding[i], embedding[i])\n",
        "plt.show()"
      ],
      "metadata": {
        "colab": {
          "base_uri": "https://localhost:8080/",
          "height": 266
        },
        "id": "vM9SiQHsfTtR",
        "outputId": "aba2ef4a-39ca-43a9-f5a5-fb10a67ae1e2"
      },
      "execution_count": null,
      "outputs": [
        {
          "output_type": "display_data",
          "data": {
            "text/plain": [
              "<Figure size 432x288 with 1 Axes>"
            ],
            "image/png": "[encoded data removed]"
          },
          "metadata": {}
        }
      ]
    }
  ]
}